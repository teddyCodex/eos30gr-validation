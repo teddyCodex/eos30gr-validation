{
 "cells": [
  {
   "cell_type": "markdown",
   "metadata": {},
   "source": [
    "# Data processing\n",
    "\n",
    "In this notebook, I am loading a list of molecules I obtained from ChEMBL and processing them to make sure I have:\n",
    "- Standard SMILES representation of the compound\n",
    "- InChIKey associated to the compound"
   ]
  },
  {
   "cell_type": "code",
   "execution_count": 1,
   "metadata": {},
   "outputs": [],
   "source": [
    "# In this codeblock I will import the necessary packages and specify the paths to relevant folders\n",
    "\n",
    "# %pip install rdkit\n",
    "# %pip install standardiser\n",
    "# %pip install ersilia\n",
    "\n",
    "# uncomment the above in case of errors relating to rdkit, standardiser or ersilia not found\n",
    "\n",
    "import csv\n",
    "import time\n",
    "import pandas as pd\n",
    "import sys\n",
    "sys.path.append('../src')\n",
    "from smiles_processing import standardise_smiles\n",
    "from ersilia import ErsiliaModel\n",
    "import matplotlib.pyplot as plt\n",
    "\n",
    "\n",
    "input_file = '../data/reference_library.csv'\n",
    "output_folder = '../data/'"
   ]
  },
  {
   "cell_type": "code",
   "execution_count": 2,
   "metadata": {},
   "outputs": [
    {
     "data": {
      "text/plain": [
       "Index(['smiles'], dtype='object')"
      ]
     },
     "execution_count": 2,
     "metadata": {},
     "output_type": "execute_result"
    }
   ],
   "source": [
    "# In this codeblock I will load the data from the /data folder to a Pandas dataframe and understand which headers it has\n",
    "df: pd.DataFrame = pd.read_csv(input_file)\n",
    "df.columns"
   ]
  },
  {
   "cell_type": "code",
   "execution_count": 3,
   "metadata": {},
   "outputs": [
    {
     "name": "stderr",
     "output_type": "stream",
     "text": [
      "[01:19:54] Can't kekulize mol.  Unkekulized atoms: 3 7\n"
     ]
    }
   ],
   "source": [
    "# In this codeblock I will convert the molecules to standard SMILES by using the function standardise_smiles from /src\n",
    "# I will import the function directly from src, not copying it here\n",
    "\n",
    "standard_smiles: list = standardise_smiles(df['smiles'])"
   ]
  },
  {
   "cell_type": "code",
   "execution_count": 4,
   "metadata": {},
   "outputs": [
    {
     "name": "stdout",
     "output_type": "stream",
     "text": [
      "A TypeError occurred: No registered converter was able to produce a C++ rvalue of type std::__1::basic_string<wchar_t, std::__1::char_traits<wchar_t>, std::__1::allocator<wchar_t>> from this Python object of type float\n",
      "A TypeError occurred: No registered converter was able to produce a C++ rvalue of type std::__1::basic_string<wchar_t, std::__1::char_traits<wchar_t>, std::__1::allocator<wchar_t>> from this Python object of type float\n",
      "A TypeError occurred: No registered converter was able to produce a C++ rvalue of type std::__1::basic_string<wchar_t, std::__1::char_traits<wchar_t>, std::__1::allocator<wchar_t>> from this Python object of type float\n"
     ]
    }
   ],
   "source": [
    "# In this codeblock I will get the Inchikey representation of the molecules using the RDKIT package\n",
    "from rdkit import Chem\n",
    "\n",
    "smiles_dict = {}\n",
    "\n",
    "# convert SMILES to Molecule Objects then fetch Inchikey and save to a dictionary\n",
    "for smiles in standard_smiles:\n",
    "    # using a try except block to catch potential type error\n",
    "    try:\n",
    "        mol_object = Chem.MolFromSmiles(smiles)\n",
    "    except TypeError as e:\n",
    "        print(f\"A TypeError occurred: {e}\")\n",
    "    else:\n",
    "        inchikey = Chem.MolToInchiKey(mol_object)\n",
    "        smiles_dict[inchikey] = smiles"
   ]
  },
  {
   "cell_type": "code",
   "execution_count": 5,
   "metadata": {},
   "outputs": [],
   "source": [
    "# In this codeblock I will save the data as a .csv file containing only the standard smiles and the inchikey as columns.\n",
    "# All data will be saved with informative names in the /data folder\n",
    "\n",
    "df = pd.DataFrame(list(smiles_dict.items()), columns=['InChIKey', 'SMILES'] )\n",
    "\n",
    "df.to_csv(output_folder + 'smiles_to_inchikeys_conversion.csv', index=False)"
   ]
  },
  {
   "cell_type": "markdown",
   "metadata": {},
   "source": [
    "# Model Bias Evaluation\n",
    "\n",
    "Now, I will use the predictions I got from the Ersilia Model Hub on the dataset of 1000 molecules curated above and see how are they distributed in their space (which might be 0 to 1 for probabilities, or different for regression models)"
   ]
  },
  {
   "cell_type": "code",
   "execution_count": 6,
   "metadata": {},
   "outputs": [
    {
     "name": "stdout",
     "output_type": "stream",
     "text": [
      "Execution time: 89.02806878089905 seconds\n"
     ]
    }
   ],
   "source": [
    "# In this codeblock I will load the chosen ersilia model and run the predictions using the Ersilia python library and save in the /data folder\n",
    "start_time = time.time()\n",
    "\n",
    "df = pd.read_csv(output_folder + 'smiles_to_inchikeys_conversion.csv')\n",
    "smiles = df['SMILES']\n",
    "\n",
    "model = ErsiliaModel(\"eos30gr\")\n",
    "model.serve()\n",
    "\n",
    "predictions: list = list(model.run(smiles))\n",
    "\n",
    "predictions_dict = {}\n",
    "\n",
    "for prediction in predictions:\n",
    "    smiles = prediction['input']['input']\n",
    "    outcome = prediction['output']['outcome'][0]\n",
    "    predictions_dict[smiles] = outcome\n",
    "\n",
    "predictions_df = pd.DataFrame(list(predictions_dict.items()), columns=['smiles', 'prediction'])\n",
    "\n",
    "predictions_df.to_csv(output_folder + 'predictions.csv', index=False)\n",
    "\n",
    "end_time = time.time()\n",
    "print(f\"Execution time: {end_time - start_time} seconds\")"
   ]
  },
  {
   "cell_type": "code",
   "execution_count": 13,
   "metadata": {},
   "outputs": [
    {
     "data": {
      "image/png": "[encoded data removed]",
      "text/plain": [
       "<Figure size 1000x600 with 1 Axes>"
      ]
     },
     "metadata": {},
     "output_type": "display_data"
    }
   ],
   "source": [
    "# In this codeblock I will create the necessary plots with MatPlotLib to observe the distribution of predicted values\n",
    "\n",
    "df = pd.read_csv(output_folder + 'predictions.csv')\n",
    "\n",
    "\n",
    "plt.figure(figsize=(10, 6))\n",
    "plt.hist(df['prediction'], bins=20, color='orangered', alpha=0.7)\n",
    "plt.title('Eos30gr SMILES Predictions')\n",
    "plt.xlabel('Prediction Score')\n",
    "plt.ylabel('Frequency')\n",
    "plt.grid(axis='y', alpha=0.75)\n",
    "plt.show()"
   ]
  },
  {
   "cell_type": "code",
   "execution_count": null,
   "metadata": {},
   "outputs": [],
   "source": []
  }
 ],
 "metadata": {
  "kernelspec": {
   "display_name": "Python 3 (ipykernel)",
   "language": "python",
   "name": "python3"
  },
  "language_info": {
   "codemirror_mode": {
    "name": "ipython",
    "version": 3
   },
   "file_extension": ".py",
   "mimetype": "text/x-python",
   "name": "python",
   "nbconvert_exporter": "python",
   "pygments_lexer": "ipython3",
   "version": "3.9.13"
  }
 },
 "nbformat": 4,
 "nbformat_minor": 2
}
